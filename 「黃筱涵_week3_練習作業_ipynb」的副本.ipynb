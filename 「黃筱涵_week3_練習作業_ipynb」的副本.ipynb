{
  "nbformat": 4,
  "nbformat_minor": 0,
  "metadata": {
    "colab": {
      "name": "「黃筱涵-week3-練習作業.ipynb」的副本",
      "provenance": [],
      "authorship_tag": "ABX9TyPoerI7DHxek8FVEca15hXi",
      "include_colab_link": true
    },
    "kernelspec": {
      "name": "python3",
      "display_name": "Python 3"
    }
  },
  "cells": [
    {
      "cell_type": "markdown",
      "metadata": {
        "id": "view-in-github",
        "colab_type": "text"
      },
      "source": [
        "<a href=\"https://colab.research.google.com/github/A109010093/Computational-Thinking-and-Program-Design/blob/main/%E3%80%8C%E9%BB%83%E7%AD%B1%E6%B6%B5_week3_%E7%B7%B4%E7%BF%92%E4%BD%9C%E6%A5%AD_ipynb%E3%80%8D%E7%9A%84%E5%89%AF%E6%9C%AC.ipynb\" target=\"_parent\"><img src=\"https://colab.research.google.com/assets/colab-badge.svg\" alt=\"Open In Colab\"/></a>"
      ]
    },
    {
      "cell_type": "markdown",
      "metadata": {
        "id": "89wHuhlLNX3U"
      },
      "source": [
        "#隨堂練習"
      ]
    },
    {
      "cell_type": "code",
      "metadata": {
        "colab": {
          "base_uri": "https://localhost:8080/"
        },
        "id": "AzO5zbjHN9_q",
        "outputId": "b3602b01-714b-4c33-e966-a8bb2672e61c"
      },
      "source": [
        "print(1+1)"
      ],
      "execution_count": null,
      "outputs": [
        {
          "output_type": "stream",
          "text": [
            "2\n"
          ],
          "name": "stdout"
        }
      ]
    },
    {
      "cell_type": "markdown",
      "metadata": {
        "id": "6Qcw8xqBbMYA"
      },
      "source": [
        "1.運算思維 \r\n",
        "2.程式設計 \r\n",
        "3.城市編碼 \r\n",
        "4.測試.除錯\r\n"
      ]
    },
    {
      "cell_type": "markdown",
      "metadata": {
        "id": "pU4kaZvAPIsJ"
      },
      "source": [
        "## 課後作業"
      ]
    },
    {
      "cell_type": "markdown",
      "metadata": {
        "id": "uDyiTV8HPcyZ"
      },
      "source": [
        "從一則新聞報導，提出你對新聞系學生為甚麼要學[運算思維與程式設計]的見解。\r\n"
      ]
    },
    {
      "cell_type": "markdown",
      "metadata": {
        "id": "eokkNHcydLuv"
      },
      "source": [
        "我認為隨著科技環境的變遷，每個人都需要學習用電腦去思考問題的能力。雖然大部分認為新聞系用不到這些電腦處理方面的程式，但能夠學習不同領域的知識，也是另一種增進自己能力的好方法。[連結文字](https://www.most.gov.tw/most/attachments/8c2fde59-6c05-45d1-90e1-7b83ac5dc233)"
      ]
    },
    {
      "cell_type": "code",
      "metadata": {
        "id": "9oi246kceIIu"
      },
      "source": [
        ""
      ],
      "execution_count": null,
      "outputs": []
    }
  ]
}