{
  "nbformat": 4,
  "nbformat_minor": 0,
  "metadata": {
    "colab": {
      "name": "黃筱涵-week7-練習作業.ipynb",
      "provenance": [],
      "authorship_tag": "ABX9TyNU/cqzjEmqfVFNDnjTSMjX",
      "include_colab_link": true
    },
    "kernelspec": {
      "name": "python3",
      "display_name": "Python 3"
    },
    "language_info": {
      "name": "python"
    }
  },
  "cells": [
    {
      "cell_type": "markdown",
      "metadata": {
        "id": "view-in-github",
        "colab_type": "text"
      },
      "source": [
        "<a href=\"https://colab.research.google.com/github/A109010093/Computational-Thinking-and-Program-Design/blob/main/%E9%BB%83%E7%AD%B1%E6%B6%B5_week7_%E7%B7%B4%E7%BF%92%E4%BD%9C%E6%A5%AD.ipynb\" target=\"_parent\"><img src=\"https://colab.research.google.com/assets/colab-badge.svg\" alt=\"Open In Colab\"/></a>"
      ]
    },
    {
      "cell_type": "code",
      "metadata": {
        "colab": {
          "base_uri": "https://localhost:8080/"
        },
        "id": "hnhCKecde5AH",
        "outputId": "a211efb2-c106-4096-afb4-aab68a997289"
      },
      "source": [
        "#在Python中,用1表示True,用0和其他非1的整數表示False。\n",
        "bool(1)\n",
        "bool(0)\n",
        "bool(100)\n",
        "#在Python中,所有物件都可以進行布林測試。\n",
        "bool(8.7)\n",
        "bool(87)"
      ],
      "execution_count": 4,
      "outputs": [
        {
          "output_type": "execute_result",
          "data": {
            "text/plain": [
              "True"
            ]
          },
          "metadata": {
            "tags": []
          },
          "execution_count": 4
        }
      ]
    },
    {
      "cell_type": "code",
      "metadata": {
        "colab": {
          "base_uri": "https://localhost:8080/"
        },
        "id": "hKnkWM27fd3q",
        "outputId": "99ebc296-2d8c-4403-eafe-19e09930d619"
      },
      "source": [
        "total=0\n",
        "\n",
        "fruit=\"Apple\"\n",
        "number=2\n",
        "total=total+number\n",
        "#print(\"摘了\"，fruit，\"摘了\"，number，\"個，總共摘了\"，total，\"個水果\")\n",
        "print(f\"摘了 {fruit}、摘了(number)個，總共摘了{total}個水果\")\n",
        "\n",
        "fruit=\"Pear\"\n",
        "number=3\n",
        "total=total+number\n",
        "#print(\"摘了\"，fruit，\"摘了\"，number，\"個，總共摘了\"，total，\"個水果\")\n",
        "print(f\"摘了 {fruit}、摘了(number)個，總共摘了{total}個水果\")\n",
        "\n",
        "fruit=\"banana\"\n",
        "number=6\n",
        "total=total+number\n",
        "#print(\"摘了\"，fruit，\"摘了\"，number，\"個，總共摘了\"，total，\"個水果\")\n",
        "print(f\"摘了 {fruit}、摘了(number)個，總共摘了{total}個水果\")"
      ],
      "execution_count": 12,
      "outputs": [
        {
          "output_type": "stream",
          "text": [
            "摘了 Apple、摘了(number)個，總共摘了2個水果\n",
            "摘了 Pear、摘了(number)個，總共摘了5個水果\n",
            "摘了 banana、摘了(number)個，總共摘了11個水果\n"
          ],
          "name": "stdout"
        }
      ]
    },
    {
      "cell_type": "code",
      "metadata": {
        "colab": {
          "base_uri": "https://localhost:8080/"
        },
        "id": "BVT83Vu-q33N",
        "outputId": "d4a90134-c052-4719-f188-dae8631595a8"
      },
      "source": [
        "## 給我半徑、用公式計算圓面積與周長\n",
        "## Input\n",
        "radius=float(input('請輸入半徑?'))\n",
        "PI=3.14159\n",
        "##process\n",
        "circumference=2*PI*radius\n",
        "area= radius * radius * PI\n",
        "## Output\n",
        "print(f'圓周長為 {circumference}, 園面積為 {area}。')"
      ],
      "execution_count": 15,
      "outputs": [
        {
          "output_type": "stream",
          "text": [
            "請輸入半徑?10\n",
            "圓周長為 62.8318, 園面積為 314.159。\n"
          ],
          "name": "stdout"
        }
      ]
    },
    {
      "cell_type": "code",
      "metadata": {
        "id": "wvnOgGVpr5cs"
      },
      "source": [
        ""
      ],
      "execution_count": null,
      "outputs": []
    }
  ]
}