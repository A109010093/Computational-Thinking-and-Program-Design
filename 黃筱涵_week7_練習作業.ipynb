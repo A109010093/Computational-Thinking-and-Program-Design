{
  "nbformat": 4,
  "nbformat_minor": 0,
  "metadata": {
    "colab": {
      "name": "黃筱涵-week7-練習作業.ipynb",
      "provenance": [],
      "include_colab_link": true
    },
    "kernelspec": {
      "name": "python3",
      "display_name": "Python 3"
    },
    "language_info": {
      "name": "python"
    }
  },
  "cells": [
    {
      "cell_type": "markdown",
      "metadata": {
        "id": "view-in-github",
        "colab_type": "text"
      },
      "source": [
        "<a href=\"https://colab.research.google.com/github/A109010093/Computational-Thinking-and-Program-Design/blob/main/%E9%BB%83%E7%AD%B1%E6%B6%B5_week7_%E7%B7%B4%E7%BF%92%E4%BD%9C%E6%A5%AD.ipynb\" target=\"_parent\"><img src=\"https://colab.research.google.com/assets/colab-badge.svg\" alt=\"Open In Colab\"/></a>"
      ]
    },
    {
      "cell_type": "code",
      "metadata": {
        "colab": {
          "base_uri": "https://localhost:8080/"
        },
        "id": "hnhCKecde5AH",
        "outputId": "a211efb2-c106-4096-afb4-aab68a997289"
      },
      "source": [
        "#在Python中,用1表示True,用0和其他非1的整數表示False。\n",
        "bool(1)\n",
        "bool(0)\n",
        "bool(100)\n",
        "#在Python中,所有物件都可以進行布林測試。\n",
        "bool(8.7)\n",
        "bool(87)"
      ],
      "execution_count": null,
      "outputs": [
        {
          "output_type": "execute_result",
          "data": {
            "text/plain": [
              "True"
            ]
          },
          "metadata": {
            "tags": []
          },
          "execution_count": 4
        }
      ]
    },
    {
      "cell_type": "code",
      "metadata": {
        "colab": {
          "base_uri": "https://localhost:8080/"
        },
        "id": "hKnkWM27fd3q",
        "outputId": "99ebc296-2d8c-4403-eafe-19e09930d619"
      },
      "source": [
        "total=0\n",
        "\n",
        "fruit=\"Apple\"\n",
        "number=2\n",
        "total=total+number\n",
        "#print(\"摘了\"，fruit，\"摘了\"，number，\"個，總共摘了\"，total，\"個水果\")\n",
        "print(f\"摘了 {fruit}、摘了(number)個，總共摘了{total}個水果\")\n",
        "\n",
        "fruit=\"Pear\"\n",
        "number=3\n",
        "total=total+number\n",
        "#print(\"摘了\"，fruit，\"摘了\"，number，\"個，總共摘了\"，total，\"個水果\")\n",
        "print(f\"摘了 {fruit}、摘了(number)個，總共摘了{total}個水果\")\n",
        "\n",
        "fruit=\"banana\"\n",
        "number=6\n",
        "total=total+number\n",
        "#print(\"摘了\"，fruit，\"摘了\"，number，\"個，總共摘了\"，total，\"個水果\")\n",
        "print(f\"摘了 {fruit}、摘了(number)個，總共摘了{total}個水果\")"
      ],
      "execution_count": null,
      "outputs": [
        {
          "output_type": "stream",
          "text": [
            "摘了 Apple、摘了(number)個，總共摘了2個水果\n",
            "摘了 Pear、摘了(number)個，總共摘了5個水果\n",
            "摘了 banana、摘了(number)個，總共摘了11個水果\n"
          ],
          "name": "stdout"
        }
      ]
    },
    {
      "cell_type": "code",
      "metadata": {
        "colab": {
          "base_uri": "https://localhost:8080/"
        },
        "id": "BVT83Vu-q33N",
        "outputId": "d4a90134-c052-4719-f188-dae8631595a8"
      },
      "source": [
        "## 給我半徑、用公式計算圓面積與周長\n",
        "## Input\n",
        "radius=float(input('請輸入半徑?'))\n",
        "PI=3.14159\n",
        "##process\n",
        "circumference=2*PI*radius\n",
        "area= radius * radius * PI\n",
        "## Output\n",
        "print(f'圓周長為 {circumference}, 園面積為 {area}。')"
      ],
      "execution_count": null,
      "outputs": [
        {
          "output_type": "stream",
          "text": [
            "請輸入半徑?10\n",
            "圓周長為 62.8318, 園面積為 314.159。\n"
          ],
          "name": "stdout"
        }
      ]
    },
    {
      "cell_type": "markdown",
      "metadata": {
        "id": "1jd6t5ZdoP8g"
      },
      "source": [
        "輸入外圓直徑r1與內圓直徑r2，求圓環面積。"
      ]
    },
    {
      "cell_type": "code",
      "metadata": {
        "id": "sQfq-nLLoU82"
      },
      "source": [
        ""
      ],
      "execution_count": null,
      "outputs": []
    },
    {
      "cell_type": "markdown",
      "metadata": {
        "id": "wfO0OIQioX_c"
      },
      "source": [
        "將身高由英制改成公制，例如5尺8吋換算成公制，1尺等於12吋，1吋等於2.54公分，轉換公式為(512+8)2.54等於172.72公分。\n",
        "～預覽結果\n",
        "輸入「5」尺，輸入「8」吋，計算結果顯示在螢幕如下。\n",
        "請輸入幾尺？5\n",
        "請輸入幾吋？8\n",
        "轉換成 172.72 公分"
      ]
    },
    {
      "cell_type": "markdown",
      "metadata": {
        "id": "FCG9RQngocTP"
      },
      "source": [
        ""
      ]
    },
    {
      "cell_type": "markdown",
      "metadata": {
        "id": "QHNgNGlxl5ux"
      },
      "source": [
        "輸入兩個正整數a = 13和b = 11，將換a和b的值，即a = 11和b = 13。\n",
        "梁小星在家中整理書櫃，原來第一層放11本爸爸的書，第二層放13本自己的書，他想將兩層圖書的位置對調，請問該如何做呢？"
      ]
    },
    {
      "cell_type": "code",
      "metadata": {
        "id": "7BzCWuokl-EM"
      },
      "source": [
        ""
      ],
      "execution_count": null,
      "outputs": []
    },
    {
      "cell_type": "markdown",
      "metadata": {
        "id": "PjM6y4ECoGW_"
      },
      "source": [
        "在糖果屋中，有6位小朋友在玩分糖果遊戲。這6位小朋友的編號為1, 2, 3, 4, 5, 6，並按照自己的編號坐在一張圓桌旁。它們身上都有不同的糖果，從1號小朋友開始，將自己的糖果均分成3份，如果有多的就立刻先吃掉，然後自己留1份，其餘2份給身邊的小朋友。接著2號、3號、4號、5號、6號同學這樣做。問一輪後，每位小朋友手上有多少糖果。\n"
      ]
    },
    {
      "cell_type": "code",
      "metadata": {
        "id": "sYN4kNV5oV3G"
      },
      "source": [
        ""
      ],
      "execution_count": null,
      "outputs": []
    },
    {
      "cell_type": "markdown",
      "metadata": {
        "id": "_M9xEsO2lghz"
      },
      "source": [
        ""
      ]
    }
  ]
}