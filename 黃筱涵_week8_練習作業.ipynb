{
  "nbformat": 4,
  "nbformat_minor": 0,
  "metadata": {
    "colab": {
      "name": "黃筱涵-week8-練習作業.ipynb",
      "provenance": [],
      "authorship_tag": "ABX9TyNLGUKLncqL9NxPOtHLxifP",
      "include_colab_link": true
    },
    "kernelspec": {
      "name": "python3",
      "display_name": "Python 3"
    },
    "language_info": {
      "name": "python"
    }
  },
  "cells": [
    {
      "cell_type": "markdown",
      "metadata": {
        "id": "view-in-github",
        "colab_type": "text"
      },
      "source": [
        "<a href=\"https://colab.research.google.com/github/A109010093/Computational-Thinking-and-Program-Design/blob/main/%E9%BB%83%E7%AD%B1%E6%B6%B5_week8_%E7%B7%B4%E7%BF%92%E4%BD%9C%E6%A5%AD.ipynb\" target=\"_parent\"><img src=\"https://colab.research.google.com/assets/colab-badge.svg\" alt=\"Open In Colab\"/></a>"
      ]
    },
    {
      "cell_type": "markdown",
      "metadata": {
        "id": "RvifGmxpdXPw"
      },
      "source": [
        "梁小星很喜歡運動，每天都堅持跑步5公里，為此他還買了一個手環。觀看手環可以記錄步數、距離、速度、時間等數據。梁小星想用Python寫一個統計時間的程式，你可以幫幫他嗎？(06'32, 07'21, 05,51, 07'03, 05'48)"
      ]
    },
    {
      "cell_type": "code",
      "metadata": {
        "id": "GqKGm8pQdYgw"
      },
      "source": [
        "##"
      ],
      "execution_count": null,
      "outputs": []
    },
    {
      "cell_type": "markdown",
      "metadata": {
        "id": "-A1Xn1GldcPZ"
      },
      "source": [
        "用Python語言編制一個明星檔案，帶你認識創造Python程式語言的大神！"
      ]
    },
    {
      "cell_type": "markdown",
      "metadata": {
        "id": "7kqqIgFUvoQY"
      },
      "source": [
        "創始人 魔球概念\n"
      ]
    },
    {
      "cell_type": "code",
      "metadata": {
        "id": "H5bNZS6-dg6I"
      },
      "source": [
        ""
      ],
      "execution_count": null,
      "outputs": []
    },
    {
      "cell_type": "markdown",
      "metadata": {
        "id": "sFvk_VJNkwVw"
      },
      "source": [
        "假設上衣300元、褲子350元與背心400元，使用者可以自行輸入三種服裝的數量，請設計一個程式計算訂購服裝的總金額。"
      ]
    },
    {
      "cell_type": "code",
      "metadata": {
        "colab": {
          "base_uri": "https://localhost:8080/"
        },
        "id": "_ytZMV7Tkzi2",
        "outputId": "754e3142-1389-4fc9-accd-f73fca9fa888"
      },
      "source": [
        "## Total = P1*Q1 + P2*Q2 + P3*Q3\n",
        "   ...: ## Input Data\n",
        "   ...: cloth = int(input('請輸入上衣數量？')) \n",
        "   ...: trousers = int(input('請輸入褲子數量？'))\n",
        "   ...: vest = int(input('請輸入背心數量？'))\n",
        "   ...: ## Process\n",
        "   ...: total = cloth*300 + trousers*350 + vest*400\n",
        "   ...: ## Output\n",
        "   ...: print('訂購服裝的總金額為', total)\n"
      ],
      "execution_count": 1,
      "outputs": [
        {
          "output_type": "stream",
          "text": [
            "請輸入上衣數量？10\n",
            "請輸入褲子數量？5\n",
            "請輸入背心數量？3\n",
            "訂購服裝的總金額為 5950\n"
          ],
          "name": "stdout"
        }
      ]
    },
    {
      "cell_type": "markdown",
      "metadata": {
        "id": "yAWN2H4rlmmV"
      },
      "source": [
        "求第一次期中考、第二次期中考與期末考成績，成績皆為整數，請計算分數的加總與平均。\n",
        "\n",
        "～預覽結果 第一次期中考輸入「75」，第二次期中考輸入「80」，期末考輸入「65」，計算結果顯示在螢幕。 請輸入第一次期中考成績？75 請輸入第二次期中考成績？80 請輸入期末考成績？65 總分為 220 平均為 73.33333333333333"
      ]
    },
    {
      "cell_type": "code",
      "metadata": {
        "colab": {
          "base_uri": "https://localhost:8080/"
        },
        "id": "gcdAzz_hk7PP",
        "outputId": "9f756bac-2921-4049-f30b-55c0db5c90bb"
      },
      "source": [
        "##求三數總和與平均\n",
        "##Input\n",
        "x,y,z= eval(input(\"Enter your score\"))\n",
        "\n",
        "##Process\n",
        "Sum=x+y+z\n",
        "Average=Sum/3\n",
        "\n",
        "##Output\n",
        "print(f\"Total score is {Sum} and average score is {Average}.\")\n",
        "           "
      ],
      "execution_count": 11,
      "outputs": [
        {
          "output_type": "stream",
          "text": [
            "Enter your score75,80,65\n",
            "Total score is 220 and average score is 73.33333333333333.\n"
          ],
          "name": "stdout"
        }
      ]
    },
    {
      "cell_type": "code",
      "metadata": {
        "id": "hyGce0ornhWc"
      },
      "source": [
        ""
      ],
      "execution_count": null,
      "outputs": []
    }
  ]
}