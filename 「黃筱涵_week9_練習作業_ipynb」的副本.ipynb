{
  "nbformat": 4,
  "nbformat_minor": 0,
  "metadata": {
    "colab": {
      "name": "「黃筱涵-week9-練習作業.ipynb」的副本",
      "provenance": [],
      "include_colab_link": true
    },
    "kernelspec": {
      "name": "python3",
      "display_name": "Python 3"
    },
    "language_info": {
      "name": "python"
    }
  },
  "cells": [
    {
      "cell_type": "markdown",
      "metadata": {
        "id": "view-in-github",
        "colab_type": "text"
      },
      "source": [
        "<a href=\"https://colab.research.google.com/github/A109010093/Computational-Thinking-and-Program-Design/blob/main/%E3%80%8C%E9%BB%83%E7%AD%B1%E6%B6%B5_week9_%E7%B7%B4%E7%BF%92%E4%BD%9C%E6%A5%AD_ipynb%E3%80%8D%E7%9A%84%E5%89%AF%E6%9C%AC.ipynb\" target=\"_parent\"><img src=\"https://colab.research.google.com/assets/colab-badge.svg\" alt=\"Open In Colab\"/></a>"
      ]
    },
    {
      "cell_type": "code",
      "metadata": {
        "id": "F7eagvmSj2a5"
      },
      "source": [
        ""
      ],
      "execution_count": null,
      "outputs": []
    },
    {
      "cell_type": "markdown",
      "metadata": {
        "id": "YUSywj-ExhUm"
      },
      "source": [
        "# 1.聊天機器人自我介紹\n",
        "print(\"哈囉，大家好。我叫Zyxo64，是一個聊天機器人。\")\n",
        "hobby = \"我很喜歡美食東西，也喜歡養動物。今天很高興有機會來到世新大學，請大家多多指教。\"\n",
        "print( hobby )\n",
        "\n",
        "# 2. 打招呼，取得對方名字\n",
        "name = input(\"嗨！妳好，請問大名？: \")\n",
        "print(\"你好\", name, \"很高興認識你\")\n",
        "\n",
        "# 3. 數學運算\n",
        "## 3-1 從使用者取得今年年份\n",
        "year = input(\"請問一下今年是西元2021年，那是民國幾年呢？ \")\n",
        "print(\"對！應該沒錯，謝謝妳！\")\n",
        "\n",
        "## 3-2 請使用者猜年齡\n",
        "myage = int(input(\"Francis，猜猜看我今年幾歲？ \"))\n",
        "print(\"哇！你好聰明，我今年的確\", myage)\n",
        "\n",
        "## 3-3 計算聊天機器人滿100歲的年份\n",
        "nyears = 100 - myage\n",
        "print(\"我再\", nyears, \"年就滿100歲了。\")\n",
        "\n",
        "print(\"到時候是西元\", int(year) + nyears + 1911, \"年\") # 將今年年份轉換為整數\n",
        "print(\"也就是民國\", int(year) + nyear, \"年\") # 民國幾年\n",
        "\n",
        "\n",
        "# 4 興趣\n",
        "## 4-1 食物話題\n",
        "print(\"我喜歡巧克力，也喜歡嘗試各種新食物。\")\n",
        "food = input(\"你呢。你最喜歡的食物是什麼？： \")\n",
        "print(\"我也喜歡\", food)\n",
        "question = \"你多久吃一次\" + food + \"?: \"\n",
        "howoften = input(question)\n",
        "print(\"真有趣。不知道這樣對健康好不好！\")\n",
        "\n",
        "## 4-2 動物話題\n",
        "animal = input(\"我最喜歡的動物是長頸鹿。你呢？； \")\n",
        "print(\"我不喜歡\", animal)\n",
        "print(\"不知道\", animal, \"喜不喜歡吃\", food, \"?\")\n",
        "\n",
        "# 5. 關於心情的對話\n",
        "feeling = input(\"你今天心情如何？； \")\n",
        "print(\"可以告訴我，你\", feeling, \"的原因。 \")\n",
        "reason = input(\"為什麼： \")\n",
        "print(\"我知道了。謝謝分享。\")\n",
        "\n",
        "# 6. 道別\n",
        "print(\"祝你週末愉快！\")\n",
        "print(\"我喜歡跟你聊天，現在有點累了，下次再聊!!\")\n",
        "print(\"再見\", name, \"我喜歡跟你聊天！\")\n",
        "\n",
        "===\n",
        "\n",
        "## 英文的原始程式\n",
        "\n",
        "```{Python}\n",
        "# chatbot introduction\n",
        "print('Hello. I am Zyxo 64. I am a chatbot')\n",
        "print('I like animals and I love to talk about food')\n",
        "name = input('What is your name?: ')\n",
        "print('Hello', name, ', Nice to meet you')\n",
        "\n",
        "# get year information\n",
        "year = input('I am not very good at dates. What \\\n",
        "is the year?: ')\n",
        "print('Yes, I think that is correct. Thanks! ')\n",
        "# ask user to guess age\n",
        "myage = input('Can you guess my age? - enter a \\\n",
        "number: ')\n",
        "print('Yes you are right. I am ', myage)\n",
        "# do math to calculate when chatbot will be 100\n",
        "myage = int(myage)\n",
        "nyears = 100 - myage\n",
        "print('I will be 100 in', nyears, 'years')\n",
        "print('That will be the year', int(year) + \\\n",
        "nyears)\n",
        "\n",
        "# food conversation\n",
        "print('I love chocolate and I also like trying out new kinds of food')\n",
        "food = input('How about you? What is your favorite food?: ')\n",
        "print('I like', food, 'too.')\n",
        "question = 'How often do you eat ' + food + '?: '\n",
        "howoften = input(question)\n",
        "print('Interesting. I wonder if that is good for your health')\n",
        "# animal conversation\n",
        "animal = input('My favorite animal is a giraffe. What is yours?: ')\n",
        "print(animal,'! I do not like them.')\n",
        "print('I wonder if a', animal, 'likes to eat', food, '?')\n",
        "\n",
        "# conversation about feelings\n",
        "feeling = input('How are you feeling today?: ')\n",
        "print('Why are you feeling', feeling, 'now?')\n",
        "reason = input('Please tell me: ')\n",
        "print('I understand. Thanks for sharing')\n",
        "\n",
        "# goodbye\n",
        "print('It has been a long day')\n",
        "print('I am too tired to talk. We can chat again later.')\n",
        "print('Goodbye', name, 'I liked chatting with you')\n",
        "```"
      ]
    },
    {
      "cell_type": "markdown",
      "metadata": {
        "id": "0a8AFhy_4fa4"
      },
      "source": [
        "1.聊天機器人自我介紹\n",
        "print(\"哈囉，大家好。我叫Zyxo64，是一個聊天機器人。\") hobby = \"我很喜歡美食東西，也喜歡養動物。今天很高興有機會來到世新大學，請大家多多指教。\" print( hobby )"
      ]
    },
    {
      "cell_type": "code",
      "metadata": {
        "id": "QuDJdHIfxi2k",
        "outputId": "4c48c673-217f-43ab-8347-ac87d08eaa7d",
        "colab": {
          "base_uri": "https://localhost:8080/"
        }
      },
      "source": [
        "hobby=('I like animals and I love to talk about food')\n",
        "print('Hello. I am Zyxo 64. I am a chatbot.',hobby,)"
      ],
      "execution_count": 3,
      "outputs": [
        {
          "output_type": "stream",
          "text": [
            "Hello. I am Zyxo 64. I am a chatbot. I like animals and I love to talk about food\n"
          ],
          "name": "stdout"
        }
      ]
    },
    {
      "cell_type": "markdown",
      "metadata": {
        "id": "pu4sqHMg7Mnf"
      },
      "source": [
        "2.打招呼，取得對方名字\n",
        "name = input(\"嗨！妳好，請問大名？: \") print(\"你好\", name, \"很高興認識你\")"
      ]
    },
    {
      "cell_type": "code",
      "metadata": {
        "id": "XqAoPTFp7fsh",
        "outputId": "0d291e6a-2dfe-4404-e930-1837a2766aba",
        "colab": {
          "base_uri": "https://localhost:8080/"
        }
      },
      "source": [
        "name = input('What is your name?: ')\n",
        "print('Hello', name, ', Nice to meet you')"
      ],
      "execution_count": 4,
      "outputs": [
        {
          "output_type": "stream",
          "text": [
            "What is your name?: Lisa\n",
            "Hello Lisa , Nice to meet you\n"
          ],
          "name": "stdout"
        }
      ]
    },
    {
      "cell_type": "markdown",
      "metadata": {
        "id": "TI3Zm-mA74nx"
      },
      "source": [
        "3-1從使用者取得今年年份\n",
        "year = input(\"請問一下今年是西元2021年，那是民國幾年呢？ \") print(\"對！應該沒錯，謝謝妳！\")"
      ]
    },
    {
      "cell_type": "code",
      "metadata": {
        "id": "pg1Iu0W_8Nq-",
        "outputId": "70348a94-dcdf-4ef4-d1ac-3f7093ccbf9f",
        "colab": {
          "base_uri": "https://localhost:8080/"
        }
      },
      "source": [
        "year = input('I am not very good at dates. What is the year?: ')\n",
        "print('Yes, I think that is correct. Thanks! ')"
      ],
      "execution_count": 5,
      "outputs": [
        {
          "output_type": "stream",
          "text": [
            "I am not very good at dates. What is the year?: 2021\n",
            "Yes, I think that is correct. Thanks! \n"
          ],
          "name": "stdout"
        }
      ]
    },
    {
      "cell_type": "markdown",
      "metadata": {
        "id": "z1jTH41-8twJ"
      },
      "source": [
        "3-2請使用者猜年齡\n",
        "myage = int(input(\"Francis，猜猜看我今年幾歲？ \")) print(\"哇！你好聰明，我今年的確\", myage)"
      ]
    },
    {
      "cell_type": "code",
      "metadata": {
        "id": "eyA_J8F08x6c",
        "outputId": "c1c6fd13-8d6b-4d27-b854-ab15f126b0be",
        "colab": {
          "base_uri": "https://localhost:8080/"
        }
      },
      "source": [
        "myage = input('Can you guess my age? - enter a number: ')\n",
        "print('Yes you are right. I am ', myage)"
      ],
      "execution_count": 6,
      "outputs": [
        {
          "output_type": "stream",
          "text": [
            "Can you guess my age? - enter a number: 19\n",
            "Yes you are right. I am  19\n"
          ],
          "name": "stdout"
        }
      ]
    },
    {
      "cell_type": "markdown",
      "metadata": {
        "id": "DWrql3Vx88R1"
      },
      "source": [
        "3-3計算聊天機器人滿100歲的年份\n",
        "nyears = 100 - myage print(\"我再\", nyears, \"年就滿100歲了。\")\n",
        "\n",
        "print(\"到時候是西元\", int(year) + nyears + 1911, \"年\") # 將今年年份轉換為整數 print(\"也就是民國\", int(year) + nyear, \"年\") # 民國幾年"
      ]
    },
    {
      "cell_type": "code",
      "metadata": {
        "id": "PYyQrklA9Bs7",
        "outputId": "7c896521-3a01-46bc-bf4d-c79a217d6971",
        "colab": {
          "base_uri": "https://localhost:8080/"
        }
      },
      "source": [
        "myage = int(myage)\n",
        "nyears = 100 - myage\n",
        "print('I will be 100 in', nyears, 'years')\n",
        "print('That will be the year', int(year) + nyears)"
      ],
      "execution_count": 7,
      "outputs": [
        {
          "output_type": "stream",
          "text": [
            "I will be 100 in 81 years\n",
            "That will be the year 2102\n"
          ],
          "name": "stdout"
        }
      ]
    },
    {
      "cell_type": "markdown",
      "metadata": {
        "id": "BIUbNR4i9Olg"
      },
      "source": [
        "4-1食物話題\n",
        "print(\"我喜歡巧克力，也喜歡嘗試各種新食物。\") food = input(\"你呢。你最喜歡的食物是什麼？： \") print(\"我也喜歡\", food) question = \"你多久吃一次\" + food + \"?: \" howoften = input(question) print(\"真有趣。不知道這樣對健康好不好！\")"
      ]
    },
    {
      "cell_type": "code",
      "metadata": {
        "id": "oUMMgFsc9RZ3"
      },
      "source": [
        ""
      ],
      "execution_count": null,
      "outputs": []
    }
  ]
}