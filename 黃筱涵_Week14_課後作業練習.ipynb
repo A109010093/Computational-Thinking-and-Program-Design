{
  "nbformat": 4,
  "nbformat_minor": 0,
  "metadata": {
    "colab": {
      "name": "黃筱涵-Week14-課後作業練習.ipynb",
      "provenance": [],
      "authorship_tag": "ABX9TyMe8MqmgGoFMpVxnhTZrc+W",
      "include_colab_link": true
    },
    "kernelspec": {
      "name": "python3",
      "display_name": "Python 3"
    },
    "language_info": {
      "name": "python"
    }
  },
  "cells": [
    {
      "cell_type": "markdown",
      "metadata": {
        "id": "view-in-github",
        "colab_type": "text"
      },
      "source": [
        "<a href=\"https://colab.research.google.com/github/A109010093/Computational-Thinking-and-Program-Design/blob/main/%E9%BB%83%E7%AD%B1%E6%B6%B5_Week14_%E8%AA%B2%E5%BE%8C%E4%BD%9C%E6%A5%AD%E7%B7%B4%E7%BF%92.ipynb\" target=\"_parent\"><img src=\"https://colab.research.google.com/assets/colab-badge.svg\" alt=\"Open In Colab\"/></a>"
      ]
    },
    {
      "cell_type": "markdown",
      "metadata": {
        "id": "vJBVS3W1h1P_"
      },
      "source": [
        "加分題: 棒打老虎雞吃蟲(Optional)"
      ]
    },
    {
      "cell_type": "code",
      "metadata": {
        "colab": {
          "base_uri": "https://localhost:8080/"
        },
        "id": "YTg6aoZBhueI",
        "outputId": "bfb24c65-5811-493f-bc2a-3bd662e2c80e"
      },
      "source": [
        "import random\n",
        "com=random.randint(0,3)\n",
        "word=[\"蟲\",\"雞\",\"虎\",\"棒\"]\n",
        "my=int(input(\"請出拳[0]蟲,[1]雞,[2]虎,[3]棒\"))\n",
        "print(\"你出的拳:\",word[my])\n",
        "print(\"電腦出的拳:\",word[com])\n",
        "if (my==(com+1)%4) :\n",
        "  print(\"你贏了\")\n",
        "elif (com==(my+1)%4) :\n",
        "  print(\"你輸了\")\n",
        "else:\n",
        "  print(\"平手\")"
      ],
      "execution_count": 5,
      "outputs": [
        {
          "output_type": "stream",
          "text": [
            "請出拳[0]蟲,[1]雞,[2]虎,[3]棒3\n",
            "你出的拳: 棒\n",
            "電腦出的拳: 虎\n",
            "你贏了\n"
          ],
          "name": "stdout"
        }
      ]
    }
  ]
}