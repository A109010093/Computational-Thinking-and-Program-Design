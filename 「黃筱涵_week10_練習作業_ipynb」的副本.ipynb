{
  "nbformat": 4,
  "nbformat_minor": 0,
  "metadata": {
    "colab": {
      "name": "「黃筱涵-week10-練習作業.ipynb」的副本",
      "provenance": [],
      "include_colab_link": true
    },
    "kernelspec": {
      "name": "python3",
      "display_name": "Python 3"
    },
    "language_info": {
      "name": "python"
    }
  },
  "cells": [
    {
      "cell_type": "markdown",
      "metadata": {
        "id": "view-in-github",
        "colab_type": "text"
      },
      "source": [
        "<a href=\"https://colab.research.google.com/github/A109010093/Computational-Thinking-and-Program-Design/blob/main/%E3%80%8C%E9%BB%83%E7%AD%B1%E6%B6%B5_week10_%E7%B7%B4%E7%BF%92%E4%BD%9C%E6%A5%AD_ipynb%E3%80%8D%E7%9A%84%E5%89%AF%E6%9C%AC.ipynb\" target=\"_parent\"><img src=\"https://colab.research.google.com/assets/colab-badge.svg\" alt=\"Open In Colab\"/></a>"
      ]
    },
    {
      "cell_type": "code",
      "metadata": {
        "id": "ceXwqMtudGi9"
      },
      "source": [
        ""
      ],
      "execution_count": null,
      "outputs": []
    },
    {
      "cell_type": "markdown",
      "metadata": {
        "id": "eK6ru7DNjq5u"
      },
      "source": [
        "# 基本程式設計(應用篇)"
      ]
    },
    {
      "cell_type": "markdown",
      "metadata": {
        "id": "GZw6pBXzjq50"
      },
      "source": [
        "### 4-2 運算思維四個基石"
      ]
    },
    {
      "cell_type": "markdown",
      "metadata": {
        "id": "gDvJ1d6Cjq50"
      },
      "source": [
        "#### 4-2-4  問題拆解 - 打造你的聊天機器人"
      ]
    },
    {
      "cell_type": "markdown",
      "metadata": {
        "id": "FKhtomoijq51"
      },
      "source": [
        "「哈囉，大家好。我叫Zyxo64，是一個聊天機器人。\n",
        "\n",
        "在嗜好與興趣方面，我很喜歡美食，也喜歡養動物。\n",
        "\n",
        "很高興有機會來到世新大學，請大家多多指教。\n",
        "\n",
        "嗨！妳好，請問大名？：Francis。\n",
        "\n",
        "Francis，很高興認識你。"
      ]
    },
    {
      "cell_type": "code",
      "metadata": {
        "id": "PzXognGljq51",
        "colab": {
          "base_uri": "https://localhost:8080/"
        },
        "outputId": "29d29a15-8177-40d4-a1c1-bd8ba2205ba6"
      },
      "source": [
        "# 1.聊天機器人自我介紹\n",
        "print(\"哈囉，大家好。我叫Zyxo64，是一個聊天機器人。\")\n",
        "print(f\"在嗜好與興趣方面，我很喜歡美食，也喜歡養動物。\")\n",
        "hello=\"很高興有機會來到世新大學，請大家多多指教。\"\n",
        "print(hello)\n",
        "\n",
        "# 2. 打招呼，取得對方名字\n",
        "name=input(\"嗨！妳好，請問大名？：\")\n",
        "print(f\"{name}，很高興認識你。\")\n"
      ],
      "execution_count": null,
      "outputs": [
        {
          "output_type": "stream",
          "text": [
            "哈囉，大家好。我叫Zyxo64，是一個聊天機器人。\n",
            "在嗜好與興趣方面，我很喜歡美食，也喜歡養動物。\n",
            "很高興有機會來到世新大學，請大家多多指教。\n",
            "嗨！妳好，請問大名？：Lisa\n",
            "Lisa，很高興認識你。\n"
          ],
          "name": "stdout"
        }
      ]
    },
    {
      "cell_type": "markdown",
      "metadata": {
        "id": "e1b0o8QAjq52"
      },
      "source": [
        "抱歉，請問一下今年是西元2021年，那是民國幾年呢？：*110*。\n",
        "\n",
        "對！沒錯，謝謝妳！\n",
        "\n",
        "**Francis**，猜猜看我今年幾歲？ ：**18**。\n",
        "\n",
        "哇！你好聰明，我今年的確*18*。\n",
        "\n",
        "再82年我就100歲了。\n",
        "\n",
        "那時候是西元 2103年，也就是民國192年囉！"
      ]
    },
    {
      "cell_type": "code",
      "metadata": {
        "id": "FEo4Egimjq52",
        "colab": {
          "base_uri": "https://localhost:8080/"
        },
        "outputId": "a0295397-e130-474c-f83d-d07f51c9fb24"
      },
      "source": [
        "# 3. 數學運算\n",
        "## 3-1 從使用者取得今年年份\n",
        "year=input(\"請問一下今年是西元2021年，那是民國幾年呢？\")\n",
        "print(\"對！沒錯，謝謝妳！\")\n",
        "\n",
        "\n",
        "## 3-2 請使用者猜年齡\n",
        "age=input(\"Francis，猜猜看我今年幾歲？ \")\n",
        "print(\"哇！你好聰明，我今年的確18\")\n",
        "\n",
        "\n",
        "## 3-3 計算聊天機器人滿100歲的年份\n",
        "nyears=100-int(age)\n",
        "print(f\"再{nyears}年我就100歲了。\")\n",
        "print(f\"那時候是西元 {int(year)+nyears+1911},年\")\n"
      ],
      "execution_count": null,
      "outputs": [
        {
          "output_type": "stream",
          "text": [
            "請問一下今年是西元2021年，那是民國幾年呢？110\n",
            "對！沒錯，謝謝妳！\n",
            "Francis，猜猜看我今年幾歲？ 18\n",
            "哇！你好聰明，我今年的確18\n",
            "再82年我就100歲了。\n",
            "那時候是西元 2103,年\n"
          ],
          "name": "stdout"
        }
      ]
    },
    {
      "cell_type": "markdown",
      "metadata": {
        "id": "4OIMBsOMjq52"
      },
      "source": [
        "18我喜歡吃巧克力，也喜歡嘗試各種新食物。\n",
        "\n",
        "你呢？你最喜歡的食物是什麼？**:披薩**。\n",
        "\n",
        "我也喜歡 *披薩*。\n",
        "\n",
        "你多久吃一次 *披薩*？**：每天**。\n",
        "\n",
        "真有趣。不知道這樣對健康好不好。"
      ]
    },
    {
      "cell_type": "code",
      "metadata": {
        "id": "sLvcUVVPjq53",
        "colab": {
          "base_uri": "https://localhost:8080/"
        },
        "outputId": "e0941f58-420f-44ff-9c85-e5a1e689737c"
      },
      "source": [
        "# 4 興趣\n",
        "## 4-1 食物話題\n",
        "print(\"我喜歡吃巧克力，也喜歡嘗試各種新食物。\")\n",
        "food=input(\"你呢。你最喜歡的食物是什麼？:\")\n",
        "print(\"我也喜歡\",food)\n",
        "question=\"你多久吃一次\"+food+\"？：\"\n",
        "howoften=input(question)\n",
        "print(\"真有趣。不知道這樣對健康好不好。\")\n",
        "\n"
      ],
      "execution_count": null,
      "outputs": [
        {
          "output_type": "stream",
          "text": [
            "我喜歡吃巧克力，也喜歡嘗試各種新食物。\n",
            "你呢。你最喜歡的食物是什麼？:披薩\n",
            "我也喜歡 披薩\n",
            "你多久吃一次披薩？：每天\n",
            "真有趣。不知道這樣對健康好不好。\n"
          ],
          "name": "stdout"
        }
      ]
    },
    {
      "cell_type": "markdown",
      "metadata": {
        "id": "jjRJLTPrjq53"
      },
      "source": [
        "我最喜歡的動物是長頸鹿。你呢？ **：烏龜**。\n",
        "\n",
        "我不喜歡*烏龜*！\n",
        "\n",
        "不知道 *烏龜* 喜不喜歡吃 *披薩*？"
      ]
    },
    {
      "cell_type": "code",
      "metadata": {
        "id": "pcdmskoJjq53",
        "colab": {
          "base_uri": "https://localhost:8080/"
        },
        "outputId": "6feaf45c-db68-4991-8cf7-d5edc0e18986"
      },
      "source": [
        "# 4 興趣\n",
        "## 4-2 動物話題\n",
        "animal=input(\"我最喜歡的動物是長頸鹿。你呢？ ：\")\n",
        "print(\"我不喜歡\",animal)\n",
        "print(\"不知道\",animal,\"喜不喜歡吃\",food)\n"
      ],
      "execution_count": null,
      "outputs": [
        {
          "output_type": "stream",
          "text": [
            "我最喜歡的動物是長頸鹿。你呢？ ：烏龜\n",
            "我不喜歡 烏龜\n",
            "不知道 烏龜 喜不喜歡吃 披薩\n"
          ],
          "name": "stdout"
        }
      ]
    },
    {
      "cell_type": "markdown",
      "metadata": {
        "id": "M0lf2DCsjq53"
      },
      "source": [
        "你今天的心情如何？ **：很開心**。\n",
        "\n",
        "可以告訴我你 *開心* 的原因嗎？**因為週末了！** \n",
        "\n",
        "祝你週末愉快！\n",
        "\n",
        "我喜歡跟你聊天，現在有點累了，改天再聊吧！！\n",
        "\n",
        "再見 *Francis*！"
      ]
    },
    {
      "cell_type": "code",
      "metadata": {
        "id": "FcN52BWIjq54",
        "colab": {
          "base_uri": "https://localhost:8080/"
        },
        "outputId": "fcb08332-d7b6-4b96-d12c-fd56d4947589"
      },
      "source": [
        "# 5. 關於心情的對話\n",
        "feeling=input(\"你今天的心情如何？\")\n",
        "print(\"可以告訴我你\",feeling, \"的原因嗎？\")\n",
        "reason=input(\"因為週末了！\")\n",
        "print(\"我喜歡跟你聊天，現在有點累了，改天再聊吧！！\")\n",
        "print(\"再見 Francis！\")"
      ],
      "execution_count": null,
      "outputs": [
        {
          "output_type": "stream",
          "text": [
            "你今天的心情如何？很開心\n",
            "可以告訴我你 很開心 的原因嗎？\n",
            "因為週末了！因為週末了\n",
            "我喜歡跟你聊天，現在有點累了，改天再聊吧！！\n",
            "再見 Francis！\n"
          ],
          "name": "stdout"
        }
      ]
    },
    {
      "cell_type": "markdown",
      "metadata": {
        "id": "23_J052Jjq54"
      },
      "source": [
        "我喜歡跟你聊天，現在有點累了，改天再聊吧！！\n",
        "\n",
        "再見 *Francis*！"
      ]
    },
    {
      "cell_type": "code",
      "metadata": {
        "id": "IrkQNr-xjq54"
      },
      "source": [
        "# 6. 道別\n"
      ],
      "execution_count": null,
      "outputs": []
    },
    {
      "cell_type": "markdown",
      "metadata": {
        "id": "MwtSyD5Jjq54"
      },
      "source": [
        "## 期末報告"
      ]
    },
    {
      "cell_type": "markdown",
      "metadata": {
        "id": "GveEOZPTjq54"
      },
      "source": [
        "\n",
        "\n",
        "```\n",
        "# 此內容會顯示為程式碼\n",
        "```\n",
        "\n",
        "### 組長(學號姓名):黃筱涵 a109010093\n",
        "\n"
      ]
    },
    {
      "cell_type": "markdown",
      "metadata": {
        "id": "Ydigk9vXjq55"
      },
      "source": [
        "### 組員(學號姓名):\n",
        "陳榆潔 a109010039\n",
        "張心瑜 a109010141\n",
        "\n"
      ]
    },
    {
      "cell_type": "markdown",
      "metadata": {
        "id": "Wp2M3LdQjq55"
      },
      "source": [
        "### 題目:聊天機器人\n"
      ]
    },
    {
      "cell_type": "markdown",
      "metadata": {
        "id": "bSXUqPLfjq55"
      },
      "source": [
        "### 百字腳本\n",
        "大家好，我叫你的小可愛。我是一個聊天機器人。我喜歡聊天，喜歡動物跟食物。\n",
        "你叫什麼名字？：frank \n",
        "你好，frank，很高興能跟你聊天。\n",
        "\n",
        "我不知道今天的日期請問你知道嗎？\n",
        "：2020520 \n",
        "\n",
        "你知道我今年幾歲嗎？：25\n",
        "你好棒，竟然猜對了！\n",
        "再75年我就100歲了。\n",
        "\n",
        "你知道那時候是幾年幾月嗎？：2095\n",
        "\n",
        "我喜歡吃巧克力，frank 你喜歡嗎？\n",
        "：喜歡\n",
        "\n",
        "你大概多久吃一次巧克力？：一星期一次\n",
        "\n",
        "我一星期只有一天不吃巧克力，你知道是星期幾嗎？：是星期三嗎？\n",
        "答對了！你真聰明。\n",
        "\n",
        "我昨天認識一個小哥哥，介紹給你好嗎？\n",
        "：不用了，我喜歡照顧弟弟\n",
        "\n",
        "那你多久運動一次？：半年\n",
        "真有趣。不知道這樣對身體好不好\n",
        "\n",
        "我最喜歡跟貓咪玩了。你呢？：我也喜歡，但你是要怎麼跟它玩？你只是個電腦欸\n",
        "\n",
        "先別說這個了。你今天心情如何？：我很困惑\n",
        "\n",
        "為什麼你現在覺得 困惑 呢？請告訴我：因為你說你會跟貓咪玩\n",
        "\n",
        "今天事情真多\n",
        "我累到無法聊天了。之後有空再跟你聊天。\n",
        "掰掰frank，下次見。\n",
        "\n"
      ]
    },
    {
      "cell_type": "code",
      "metadata": {
        "id": "8ilRHEeFFzZh"
      },
      "source": [
        ""
      ],
      "execution_count": null,
      "outputs": []
    }
  ]
}